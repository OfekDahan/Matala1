{
  "nbformat": 4,
  "nbformat_minor": 0,
  "metadata": {
    "colab": {
      "provenance": [],
      "authorship_tag": "ABX9TyO9FR4svt3LUbXfxTTZVKnC",
      "include_colab_link": true
    },
    "kernelspec": {
      "name": "python3",
      "display_name": "Python 3"
    },
    "language_info": {
      "name": "python"
    }
  },
  "cells": [
    {
      "cell_type": "markdown",
      "metadata": {
        "id": "view-in-github",
        "colab_type": "text"
      },
      "source": [
        "<a href=\"https://colab.research.google.com/github/OfekDahan/Matala1/blob/main/untitled0.ipynb\" target=\"_parent\"><img src=\"https://colab.research.google.com/assets/colab-badge.svg\" alt=\"Open In Colab\"/></a>"
      ]
    },
    {
      "cell_type": "markdown",
      "source": [
        "#**Matala 3** \n",
        "###**ofek dahan**\n",
        "####315223826 \n"
      ],
      "metadata": {
        "id": "u8L05T6ntB-S"
      }
    },
    {
      "cell_type": "code",
      "execution_count": null,
      "metadata": {
        "id": "_peo0SyusWx6"
      },
      "outputs": [],
      "source": [
        "import requests\n",
        "import pandas as pd"
      ]
    },
    {
      "cell_type": "code",
      "source": [
        "# Define the API endpoints and parameters\n",
        "distance_matrix_url = 'https://maps.googleapis.com/maps/api/distancematrix/json'\n",
        "geocoding_url = 'https://maps.googleapis.com/maps/api/geocode/json'\n",
        "origin = 'Tel Aviv'"
      ],
      "metadata": {
        "id": "ZBMABxGAsaPJ"
      },
      "execution_count": null,
      "outputs": []
    },
    {
      "cell_type": "code",
      "source": [
        "# Read the destinations from the file\n",
        "with open('dests.txt', 'r') as f:\n",
        "    destinations = f.read().splitlines()"
      ],
      "metadata": {
        "id": "7e1Vo5i8sfzG"
      },
      "execution_count": null,
      "outputs": []
    },
    {
      "cell_type": "code",
      "source": [
        "# Define an empty list to store the results\n",
        "results = []\n",
        "\n",
        "# Loop over the destinations and retrieve the information using the APIs\n",
        "for destination in destinations:\n",
        "    # Query the distance matrix API\n",
        "    params = {\n",
        "        'origins': origin,\n",
        "        'destinations': destination,\n",
        "        'key': 'key',\n",
        "        'units': 'metric'\n",
        "    }\n",
        "    distance_matrix_response = requests.get(distance_matrix_url, params=params).json()\n",
        "    distance = distance_matrix_response['rows'][0]['elements'][0]['distance']['value'] / 1000  # in km\n",
        "    duration = distance_matrix_response['rows'][0]['elements'][0]['duration']['text']  # in hours and minutes\n",
        "\n",
        "    # Query the geocoding API\n",
        "    params = {\n",
        "        'address': destination,\n",
        "        'key': 'key'\n",
        "    }\n",
        "    geocoding_response = requests.get(geocoding_url, params=params).json()\n",
        "    location = geocoding_response['results'][0]['geometry']['location']\n",
        "    longitude = location['lng']\n",
        "    latitude = location['lat']\n",
        "\n",
        "    # Append the results to the list\n",
        "    results.append({\n",
        "        'Target': destination,\n",
        "        'Distance_km': distance,\n",
        "        'Duration (hour+minutes)': duration,\n",
        "        'Longitude': longitude,\n",
        "        'Latitude': latitude\n",
        "    })\n",
        "\n",
        "# Create a DataFrame from the results\n",
        "df = pd.DataFrame(results)\n"
      ],
      "metadata": {
        "id": "pXWHMHHEstI_"
      },
      "execution_count": null,
      "outputs": []
    },
    {
      "cell_type": "code",
      "source": [
        "# Print the DataFrame\n",
        "print(df)"
      ],
      "metadata": {
        "colab": {
          "base_uri": "https://localhost:8080/"
        },
        "id": "BtnoOqvZsy3c",
        "outputId": "47cab739-0e36-4a25-bb48-ba640b3be9c1"
      },
      "execution_count": null,
      "outputs": [
        {
          "output_type": "stream",
          "name": "stdout",
          "text": [
            "      Target  Distance_km Duration (hour+minutes)  Longitude   Latitude\n",
            "0   Istanbul     1815.227         21 hours 3 mins  28.978359  41.008238\n",
            "1  Amsterdam     4532.619          2 days 0 hours   4.904139  52.367573\n",
            "2   Valletta     3792.883          2 days 3 hours  14.514100  35.899237\n",
            "3      Basel     4092.812          1 day 20 hours   7.588576  47.559599\n",
            "4       Doha     2164.477        22 hours 39 mins  51.531040  25.285447\n"
          ]
        }
      ]
    },
    {
      "cell_type": "code",
      "source": [
        "# Find the 3 cities furthest from Tel Aviv\n",
        "furthest_cities = df.nlargest(3, 'Distance_km')\n",
        "print('The 3 cities furthest from Tel Aviv are:')\n",
        "print(furthest_cities['Target'])"
      ],
      "metadata": {
        "colab": {
          "base_uri": "https://localhost:8080/"
        },
        "id": "FppsnLk8tAaS",
        "outputId": "fb31b0b9-1201-49e9-94ce-5acbf27e218f"
      },
      "execution_count": null,
      "outputs": [
        {
          "output_type": "stream",
          "name": "stdout",
          "text": [
            "The 3 cities furthest from Tel Aviv are:\n",
            "1    Amsterdam\n",
            "3        Basel\n",
            "2     Valletta\n",
            "Name: Target, dtype: object\n"
          ]
        }
      ]
    },
    {
      "cell_type": "code",
      "source": [],
      "metadata": {
        "id": "tAE618rst3ss"
      },
      "execution_count": null,
      "outputs": []
    }
  ]
}